{
 "cells": [
  {
   "cell_type": "code",
   "execution_count": 12,
   "id": "8ed77829-8dab-478a-8723-14029a91513d",
   "metadata": {},
   "outputs": [],
   "source": [
    "import pandas as pd\n",
    "import matplotlib.pyplot as plt\n",
    "import numpy as np\n",
    "from sklearn.model_selection import train_test_split\n",
    "import seaborn as sns\n",
    "from sklearn.preprocessing import StandardScaler\n",
    "from sklearn.metrics import confusion_matrix, accuracy_score, precision_score, recall_score\n",
    "from sklearn.neighbors import KNeighborsClassifier\n",
    "from scipy.spatial.distance import mahalanobis\n",
    "from sklearn.svm import SVC\n",
    "import torch\n",
    "import torch.nn as nn\n",
    "import torch.optim as optim\n",
    "from sklearn.metrics import pairwise_distances\n",
    "from sklearn.linear_model import LogisticRegression\n",
    "from mpl_toolkits.mplot3d import Axes3D"
   ]
  },
  {
   "cell_type": "code",
   "execution_count": 13,
   "id": "1d23b0dc-6a21-4c32-b676-89fde5cfd215",
   "metadata": {},
   "outputs": [],
   "source": [
    "train=pd.read_csv(\"train.csv\")\n",
    "test=pd.read_csv(\"test.csv\")\n",
    "val=pd.read_csv(\"val.csv\")\n",
    "train.drop(columns=[\"Unnamed: 0\"],inplace=True)\n",
    "test.drop(columns=[\"Unnamed: 0\"],inplace=True)\n",
    "val.drop(columns=[\"Unnamed: 0\"],inplace=True)"
   ]
  },
  {
   "cell_type": "code",
   "execution_count": 14,
   "id": "1d0f7488-035c-40a7-9146-aa7db47e91d8",
   "metadata": {},
   "outputs": [],
   "source": [
    "scaler = StandardScaler()\n",
    "x_train=train.drop(columns=[\"species\"])\n",
    "y_train=train[\"species\"]\n",
    "\n",
    "x_test=test.drop(columns=[\"species\"])\n",
    "y_test=test[\"species\"]\n",
    "\n",
    "x_val=val.drop(columns=[\"species\"])\n",
    "y_val=val[\"species\"]\n",
    "\n",
    "x_train=scaler.fit_transform(x_train)\n",
    "x_test=scaler.transform(x_test)\n",
    "x_val=scaler.transform(x_val)"
   ]
  },
  {
   "cell_type": "code",
   "execution_count": 15,
   "id": "8dcd3a25-70e9-469d-9e55-f5508386ae20",
   "metadata": {},
   "outputs": [
    {
     "name": "stdout",
     "output_type": "stream",
     "text": [
      "the results on test data\n",
      "Confusion Matrix:\n",
      " [[96  0  0  0  0  0  0  0  0]\n",
      " [ 0 83  0  0  0  0  0  0  0]\n",
      " [ 0  0 53  0  0  0  0 40  0]\n",
      " [ 0  0  0 87  0  0  0  0  0]\n",
      " [ 0  0  0  0 95  0  0  0  0]\n",
      " [ 0  0  0  0  1 91  0  0  0]\n",
      " [ 0  0  0  0  0  0 83  0  0]\n",
      " [ 0  0 16  0  0  0  0 80  0]\n",
      " [ 0  0  0  0  0  0  0  0 91]]\n",
      "Accuracy: 0.9301470588235294\n",
      "Precision: 0.9360406602254427\n",
      "Recall: 0.9324840268038024\n"
     ]
    }
   ],
   "source": [
    "log_reg = LogisticRegression()\n",
    "log_reg.fit(x_train, y_train)\n",
    "y_test_pred = log_reg.predict(x_test)  \n",
    "conf_matrix = confusion_matrix(y_test, y_test_pred)\n",
    "accuracy = accuracy_score(y_test, y_test_pred)\n",
    "precision = precision_score(y_test, y_test_pred, average='macro', zero_division=1)\n",
    "recall = recall_score(y_test, y_test_pred, average='macro', zero_division=1)\n",
    "print(\"the results on test data\")\n",
    "print(\"Confusion Matrix:\\n\", conf_matrix)\n",
    "print(\"Accuracy:\", accuracy)\n",
    "print(\"Precision:\", precision)\n",
    "print(\"Recall:\", recall)"
   ]
  },
  {
   "cell_type": "code",
   "execution_count": null,
   "id": "b133f76f-4af1-4389-b4b3-9f6eaec40b8e",
   "metadata": {},
   "outputs": [],
   "source": []
  },
  {
   "cell_type": "code",
   "execution_count": null,
   "id": "9480efe8-7ad4-4329-80dd-9665e3ed81ef",
   "metadata": {},
   "outputs": [],
   "source": []
  },
  {
   "cell_type": "code",
   "execution_count": null,
   "id": "af7d1ee1-5028-49a5-aaa2-a7d015606b9d",
   "metadata": {},
   "outputs": [],
   "source": []
  },
  {
   "cell_type": "code",
   "execution_count": null,
   "id": "08fb6831-e3f4-4519-9375-ea8ee9dccd14",
   "metadata": {},
   "outputs": [],
   "source": []
  }
 ],
 "metadata": {
  "kernelspec": {
   "display_name": "Python 3 (ipykernel)",
   "language": "python",
   "name": "python3"
  },
  "language_info": {
   "codemirror_mode": {
    "name": "ipython",
    "version": 3
   },
   "file_extension": ".py",
   "mimetype": "text/x-python",
   "name": "python",
   "nbconvert_exporter": "python",
   "pygments_lexer": "ipython3",
   "version": "3.12.3"
  }
 },
 "nbformat": 4,
 "nbformat_minor": 5
}
