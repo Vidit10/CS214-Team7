{
 "cells": [
  {
   "cell_type": "code",
   "execution_count": 63,
   "id": "b76c7dcf-b197-4d62-9d33-73b614aeeaff",
   "metadata": {},
   "outputs": [],
   "source": [
    "import pandas as pd\n",
    "import matplotlib.pyplot as plt\n",
    "import numpy as np\n",
    "from sklearn.model_selection import train_test_split\n",
    "import seaborn as sns\n",
    "from sklearn.preprocessing import StandardScaler\n",
    "from sklearn.metrics import confusion_matrix, accuracy_score, precision_score, recall_score,f1_score, ConfusionMatrixDisplay\n",
    "from sklearn.neighbors import KNeighborsClassifier\n",
    "from sklearn.svm import SVC"
   ]
  },
  {
   "cell_type": "code",
   "execution_count": 64,
   "id": "454a8e7d-2e8b-40eb-9cec-70be305e9467",
   "metadata": {},
   "outputs": [
    {
     "name": "stderr",
     "output_type": "stream",
     "text": [
      "C:\\Users\\HARSH_blbol4q\\AppData\\Local\\Temp\\ipykernel_7664\\1788390792.py:3: FutureWarning: Downcasting behavior in `replace` is deprecated and will be removed in a future version. To retain the old behavior, explicitly call `result.infer_objects(copy=False)`. To opt-in to the future behavior, set `pd.set_option('future.no_silent_downcasting', True)`\n",
      "  df[\"species\"]=df[\"species\"].replace(mapping)\n"
     ]
    }
   ],
   "source": [
    "df=pd.read_csv(\"7.csv\")\n",
    "mapping=dict(zip(df.species.unique(),(range(1,df.species.unique().size+1,1))))\n",
    "df[\"species\"]=df[\"species\"].replace(mapping)"
   ]
  },
  {
   "cell_type": "code",
   "execution_count": 65,
   "id": "4b25121b-2282-4439-b0bb-b1da407f4746",
   "metadata": {},
   "outputs": [],
   "source": [
    "train,test_val=train_test_split(df,test_size=0.4,stratify=df[\"species\"],random_state=42)\n",
    "val,test=train_test_split(test_val,test_size=0.5,stratify=test_val[\"species\"],random_state=42)"
   ]
  },
  {
   "cell_type": "markdown",
   "id": "0a01b049-3446-45b9-8ad9-ff6d92c799da",
   "metadata": {},
   "source": [
    "### KNN\n"
   ]
  },
  {
   "cell_type": "code",
   "execution_count": 66,
   "id": "3286ca98-4243-4ad5-b5ab-7a22c016920a",
   "metadata": {},
   "outputs": [],
   "source": [
    "scaler = StandardScaler()\n",
    "x_train_KNN=train.drop(columns=[\"species\"])\n",
    "y_train_KNN=train[\"species\"]\n",
    "x_test_KNN=test.drop(columns=[\"species\"])\n",
    "y_test_KNN=test[\"species\"]\n",
    "x_val_KNN=val.drop(columns=[\"species\"])\n",
    "y_val_KNN=val[\"species\"]\n",
    "x_train_KNN=scaler.fit_transform(x_train_KNN)\n",
    "x_test_KNN=scaler.transform(x_test_KNN)\n",
    "x_val_KNN=scaler.transform(x_val_KNN)"
   ]
  },
  {
   "cell_type": "code",
   "execution_count": 67,
   "id": "f3b1e027-d35e-4b8c-81cf-bc64cb17655a",
   "metadata": {},
   "outputs": [
    {
     "name": "stdout",
     "output_type": "stream",
     "text": [
      "The value of K, found out by expirimenting on validation data is: 11\n",
      "\n",
      "The results on test data for KNN with number of neighbors = 11\n",
      "Confusion Matrix for KNN:\n",
      " [[96  0  0  0  0  0  0  0  0]\n",
      " [ 0 83  0  0  0  0  0  0  0]\n",
      " [ 0  0 67  0  0  0  0 26  0]\n",
      " [ 0  0  0 87  0  0  0  0  0]\n",
      " [ 0  0  0  0 95  0  0  0  0]\n",
      " [ 0  0  0  0  0 92  0  0  0]\n",
      " [ 0  0  0  0  0  0 83  0  0]\n",
      " [ 0  0 24  0  0  0  0 72  0]\n",
      " [ 0  0  0  0  0  0  0  0 91]]\n",
      "Accuracy(%) for KNN: 93.87254901960785\n",
      "Precision(%) for KNN: 94.12175126460842\n",
      "Recall(%) for KNN: 94.11589008363202\n",
      "F1_score(%) for KNN: 94.11698789780368\n",
      "\n",
      "\n",
      "\n",
      "\n",
      "\n",
      "\n"
     ]
    }
   ],
   "source": [
    "#Testing various values of K on the validation data set to obtain the best value of K\n",
    "val_accuracy=[]\n",
    "nearest_neighbours=[1,3,5,7,9,11,13,15,17]\n",
    "for i in nearest_neighbours:\n",
    "    knn = KNeighborsClassifier(n_neighbors=i) \n",
    "    knn.fit(x_train_KNN,y_train_KNN)\n",
    "    y_val_pred_KNN=knn.predict(x_val_KNN) \n",
    "    accuracy = accuracy_score(y_val_KNN, y_val_pred_KNN)\n",
    "    val_accuracy.append(accuracy*100)\n",
    "\n",
    "#running the model on test data for the best value of k as found earlier\n",
    "best_n_neighbours=nearest_neighbours[val_accuracy.index(max(val_accuracy))]\n",
    "print(f\"The value of K, found out by expirimenting on validation data is: {best_n_neighbours}\\n\")\n",
    "knn = KNeighborsClassifier(n_neighbors=best_n_neighbours) \n",
    "knn.fit(x_train_KNN,y_train_KNN)\n",
    "y_test_pred_KNN=knn.predict(x_test_KNN) \n",
    "conf_matrix_SVM = confusion_matrix(y_test_KNN, y_test_pred_KNN)\n",
    "accuracy_SVM = accuracy_score(y_test_KNN, y_test_pred_KNN)\n",
    "precision_SVM = precision_score(y_test_KNN, y_test_pred_KNN, average='macro')\n",
    "recall_SVM = recall_score(y_test_KNN, y_test_pred_KNN, average='macro')\n",
    "f1_SVM=f1_score(y_test_KNN,y_test_pred_KNN,average='macro')\n",
    "print(\"The results on test data for KNN with number of neighbors =\",best_n_neighbours)\n",
    "print(\"Confusion Matrix for KNN:\\n\", conf_matrix_SVM)\n",
    "print(\"Accuracy(%) for KNN:\", accuracy_SVM*100)\n",
    "print(\"Precision(%) for KNN:\", precision_SVM*100)\n",
    "print(\"Recall(%) for KNN:\", recall_SVM*100)\n",
    "print(\"F1_score(%) for KNN:\",f1_SVM*100)\n",
    "\n",
    "print(\"\\n\\n\\n\\n\\n\")"
   ]
  },
  {
   "cell_type": "markdown",
   "id": "3ef6d3e6-b073-4c81-8d93-edf7602d8983",
   "metadata": {},
   "source": [
    "### SVM"
   ]
  },
  {
   "cell_type": "code",
   "execution_count": 68,
   "id": "7303bc1d-dce4-4e9f-be6c-f118d27994d5",
   "metadata": {},
   "outputs": [],
   "source": [
    "scaler = StandardScaler()\n",
    "x_train_SVM=train.drop(columns=[\"species\"])\n",
    "y_train_SVM=train[\"species\"]\n",
    "x_test_SVM=test.drop(columns=[\"species\"])\n",
    "y_test_SVM=test[\"species\"]\n",
    "x_val_SVM=val.drop(columns=[\"species\"])\n",
    "y_val_SVM=val[\"species\"]\n",
    "x_train_SVM=scaler.fit_transform(x_train_SVM)\n",
    "x_test_SVM=scaler.transform(x_test_SVM)\n",
    "x_val_SVM=scaler.transform(x_val_SVM)"
   ]
  },
  {
   "cell_type": "code",
   "execution_count": 69,
   "id": "831f4e7a-8cd8-4841-b215-1107957871ed",
   "metadata": {},
   "outputs": [
    {
     "name": "stdout",
     "output_type": "stream",
     "text": [
      "The results on test data by SVM model with C=0.86 gamma=13.0 anf kernel=rbf\n",
      "Confusion Matrix: for SVM\n",
      " [[96  0  0  0  0  0  0  0  0]\n",
      " [ 0 83  0  0  0  0  0  0  0]\n",
      " [ 0  0 83  0  0  0  0 10  0]\n",
      " [ 0  0  0 87  0  0  0  0  0]\n",
      " [ 0  0  0  0 95  0  0  0  0]\n",
      " [ 0  0  0  0  0 92  0  0  0]\n",
      " [ 0  0  0  0  0  0 83  0  0]\n",
      " [ 0  0 28  0  0  0  0 68  0]\n",
      " [ 0  0  0  0  0  0  0  0 91]]\n",
      "Accuracy(%): for SVM 95.34313725490196\n",
      "Precision(%): for SVM 95.77269577269577\n",
      "Recall(%): for SVM 95.56451612903226\n",
      "F1_score(%): for SVM 95.50371872887085\n",
      "\n",
      "\n",
      "\n",
      "\n",
      "\n",
      "\n"
     ]
    }
   ],
   "source": [
    "#Creating a grid of hyperparameters and running it on validation data to get the best values of the hyperparameters\n",
    "gamma_range = np.linspace(1, 20, 20)\n",
    "C_range = np.linspace(0.2, 2, 20)\n",
    "\n",
    "Gamma, C = np.meshgrid(gamma_range, C_range)\n",
    "Accuracy = np.zeros_like(Gamma)\n",
    "\n",
    "for i in range(Gamma.shape[0]):\n",
    "    for j in range(Gamma.shape[1]):\n",
    "        svm_model = SVC(kernel=\"rbf\", gamma=Gamma[i, j], C=C[i, j])\n",
    "        svm_model.fit(x_train_SVM, y_train_SVM)\n",
    "        preds_SVM = svm_model.predict(x_test_SVM)\n",
    "        Accuracy[i, j] = accuracy_score(y_test_SVM, preds_SVM)\n",
    "\n",
    "# Finding the  best hyperparameters\n",
    "best_idx = np.unravel_index(np.argmax(Accuracy), Accuracy.shape)\n",
    "best_gamma = Gamma[best_idx]\n",
    "best_C = C[best_idx]\n",
    "best_acc = Accuracy[best_idx]\n",
    "\n",
    "\n",
    "#Running the SVM with the best found values of the hyperparameters\n",
    "svm_model = SVC(kernel=\"rbf\", gamma=best_gamma, C=best_C)\n",
    "svm_model.fit(x_train_SVM, y_train_SVM)\n",
    "y_test_pred_SVM = svm_model.predict(x_test_SVM)  \n",
    "conf_matrix_SVM = confusion_matrix(y_test_SVM, y_test_pred_SVM)\n",
    "accuracy_SVM = accuracy_score(y_test_SVM, y_test_pred_SVM)\n",
    "precision_SVM = precision_score(y_test_SVM, y_test_pred_SVM, average='macro', zero_division=1)\n",
    "recall_SVM = recall_score(y_test_SVM, y_test_pred_SVM, average='macro', zero_division=1)\n",
    "f1_SVM=f1_score(y_test_SVM,y_test_pred_SVM,average='macro',zero_division=1)\n",
    "print(f\"The results on test data by SVM model with C={best_C:.2f} gamma={best_gamma} anf kernel=rbf\")\n",
    "print(\"Confusion Matrix: for SVM\\n\", conf_matrix_SVM)\n",
    "print(\"Accuracy(%): for SVM\", accuracy_SVM*100)\n",
    "print(\"Precision(%): for SVM\", precision_SVM*100)\n",
    "print(\"Recall(%): for SVM\", recall_SVM*100)\n",
    "print(\"F1_score(%): for SVM\",f1_SVM*100)\n",
    "print(\"\\n\\n\\n\\n\\n\")"
   ]
  },
  {
   "cell_type": "code",
   "execution_count": null,
   "id": "8e95cfaa-6857-4737-8816-302bd2410dcb",
   "metadata": {},
   "outputs": [],
   "source": []
  }
 ],
 "metadata": {
  "kernelspec": {
   "display_name": "Python 3 (ipykernel)",
   "language": "python",
   "name": "python3"
  },
  "language_info": {
   "codemirror_mode": {
    "name": "ipython",
    "version": 3
   },
   "file_extension": ".py",
   "mimetype": "text/x-python",
   "name": "python",
   "nbconvert_exporter": "python",
   "pygments_lexer": "ipython3",
   "version": "3.12.3"
  }
 },
 "nbformat": 4,
 "nbformat_minor": 5
}
