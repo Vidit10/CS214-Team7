{
 "cells": [
  {
   "cell_type": "code",
   "execution_count": 3,
   "id": "b359729e-c74c-4468-8030-c571caae67e3",
   "metadata": {},
   "outputs": [
    {
     "name": "stdout",
     "output_type": "stream",
     "text": [
      "XGBoost Model Performance:\n",
      "Accuracy: 0.9301\n",
      "Precision: 0.9306\n",
      "Recall: 0.9301\n",
      "F1 Score: 0.9302\n",
      "\n",
      "Classification Report:\n",
      "                         precision    recall  f1-score   support\n",
      "\n",
      "    Anabas testudineus       1.00      1.00      1.00       120\n",
      "     Coilia dussumieri       1.00      1.00      1.00        77\n",
      "Otolithoides biauritus       0.67      0.73      0.70        91\n",
      "     Otolithoides pama       1.00      1.00      1.00        86\n",
      "     Pethia conchonius       1.00      1.00      1.00        89\n",
      "  Polynemus paradiseus       1.00      1.00      1.00       102\n",
      "  Puntius lateristriga       1.00      1.00      1.00        65\n",
      "        Setipinna taty       0.73      0.68      0.70       100\n",
      " Sillaginopsis panijus       1.00      1.00      1.00        86\n",
      "\n",
      "              accuracy                           0.93       816\n",
      "             macro avg       0.93      0.93      0.93       816\n",
      "          weighted avg       0.93      0.93      0.93       816\n",
      "\n"
     ]
    }
   ],
   "source": [
    "import pandas as pd\n",
    "import numpy as np\n",
    "import xgboost as xgb\n",
    "from sklearn.model_selection import train_test_split\n",
    "from sklearn.metrics import accuracy_score, precision_score, recall_score, f1_score, confusion_matrix, classification_report\n",
    "import matplotlib.pyplot as plt\n",
    "import seaborn as sns\n",
    "from sklearn.preprocessing import LabelEncoder\n",
    "\n",
    "data = pd.read_csv('7.csv')\n",
    "\n",
    "label_encoder = LabelEncoder()\n",
    "y = label_encoder.fit_transform(data[\"species\"])\n",
    "\n",
    "X_train, X_test, y_train, y_test = train_test_split(X, y, test_size=0.2, random_state=42)\n",
    "\n",
    "xgb_model = xgb.XGBClassifier(\n",
    "    n_estimators=100,\n",
    "    learning_rate=0.1,\n",
    "    max_depth=5,\n",
    "    random_state=42\n",
    ")\n",
    "\n",
    "xgb_model.fit(X_train, y_train)\n",
    "\n",
    "# Predictions\n",
    "xgb_preds = xgb_model.predict(X_test)\n",
    "\n",
    "# Evaluation\n",
    "print(\"XGBoost Model Performance:\")\n",
    "print(f\"Accuracy: {accuracy_score(y_test, xgb_preds):.4f}\")\n",
    "print(f\"Precision: {precision_score(y_test, xgb_preds, average='weighted'):.4f}\")\n",
    "print(f\"Recall: {recall_score(y_test, xgb_preds, average='weighted'):.4f}\")\n",
    "print(f\"F1 Score: {f1_score(y_test, xgb_preds, average='weighted'):.4f}\")\n",
    "print(\"\\nClassification Report:\\n\", classification_report(y_test, xgb_preds, target_names=label_encoder.classes_))"
   ]
  },
  {
   "cell_type": "code",
   "execution_count": null,
   "id": "6c0b274a-76af-4361-b393-cf0e52153a8d",
   "metadata": {},
   "outputs": [],
   "source": []
  }
 ],
 "metadata": {
  "kernelspec": {
   "display_name": "Python 3 (ipykernel)",
   "language": "python",
   "name": "python3"
  },
  "language_info": {
   "codemirror_mode": {
    "name": "ipython",
    "version": 3
   },
   "file_extension": ".py",
   "mimetype": "text/x-python",
   "name": "python",
   "nbconvert_exporter": "python",
   "pygments_lexer": "ipython3",
   "version": "3.13.2"
  }
 },
 "nbformat": 4,
 "nbformat_minor": 5
}
