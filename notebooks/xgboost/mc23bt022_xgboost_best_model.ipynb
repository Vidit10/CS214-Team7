{
 "cells": [
  {
   "cell_type": "code",
   "execution_count": 3,
   "id": "43943ad4-7282-4b2c-8a3c-efc568cacedb",
   "metadata": {},
   "outputs": [
    {
     "name": "stdout",
     "output_type": "stream",
     "text": [
      "Fitting 3 folds for each of 72 candidates, totalling 216 fits\n",
      "\n",
      "Best Hyperparameters: {'colsample_bytree': 0.8, 'learning_rate': 0.05, 'max_depth': 3, 'n_estimators': 150, 'subsample': 0.8}\n",
      "\n",
      "XGBoost Model Performance (Tuned):\n",
      "Accuracy: 0.9301\n",
      "Precision: 0.9318\n",
      "Recall: 0.9301\n",
      "F1 Score: 0.9300\n",
      "\n",
      "Classification Report:\n",
      "                         precision    recall  f1-score   support\n",
      "\n",
      "    Anabas testudineus       1.00      1.00      1.00       120\n",
      "     Coilia dussumieri       1.00      1.00      1.00        77\n",
      "Otolithoides biauritus       0.66      0.77      0.71        91\n",
      "     Otolithoides pama       1.00      1.00      1.00        86\n",
      "     Pethia conchonius       1.00      1.00      1.00        89\n",
      "  Polynemus paradiseus       1.00      1.00      1.00       102\n",
      "  Puntius lateristriga       1.00      1.00      1.00        65\n",
      "        Setipinna taty       0.75      0.64      0.69       100\n",
      " Sillaginopsis panijus       1.00      1.00      1.00        86\n",
      "\n",
      "              accuracy                           0.93       816\n",
      "             macro avg       0.93      0.93      0.93       816\n",
      "          weighted avg       0.93      0.93      0.93       816\n",
      "\n"
     ]
    }
   ],
   "source": [
    "import pandas as pd\n",
    "import numpy as np\n",
    "import xgboost as xgb\n",
    "from sklearn.model_selection import train_test_split, GridSearchCV\n",
    "from sklearn.metrics import accuracy_score, precision_score, recall_score, f1_score, classification_report\n",
    "from sklearn.preprocessing import LabelEncoder\n",
    "\n",
    "data = pd.read_csv('7.csv')\n",
    "\n",
    "label_encoder = LabelEncoder()\n",
    "y = label_encoder.fit_transform(data[\"species\"])\n",
    "X = data.drop(\"species\", axis=1)\n",
    "\n",
    "X_train, X_test, y_train, y_test = train_test_split(X, y, test_size=0.2, random_state=42)\n",
    "\n",
    "param_grid = {\n",
    "    'learning_rate': [0.01, 0.05, 0.1],\n",
    "    'max_depth': [3, 5, 7],\n",
    "    'n_estimators': [100, 150],\n",
    "    'subsample': [0.8, 1],\n",
    "    'colsample_bytree': [0.8, 1]\n",
    "}\n",
    "\n",
    "class PatchedXGBClassifier(xgb.XGBClassifier):\n",
    "    def __init__(self, **kwargs):\n",
    "        kwargs.pop(\"use_label_encoder\", None)\n",
    "        super().__init__(**kwargs)\n",
    "\n",
    "xgb_model = PatchedXGBClassifier(random_state=42, eval_metric='mlogloss')\n",
    "\n",
    "grid_search = GridSearchCV(\n",
    "    estimator=xgb_model,\n",
    "    param_grid=param_grid,\n",
    "    scoring='f1_weighted',\n",
    "    cv=3,\n",
    "    verbose=1,\n",
    "    n_jobs=-1\n",
    ")\n",
    "\n",
    "grid_search.fit(X_train, y_train)\n",
    "\n",
    "best_model = grid_search.best_estimator_\n",
    "xgb_preds = best_model.predict(X_test)\n",
    "\n",
    "# Evaluation\n",
    "print(\"\\nBest Hyperparameters:\", grid_search.best_params_)\n",
    "print(\"\\nXGBoost Model Performance (Tuned):\")\n",
    "print(f\"Accuracy: {accuracy_score(y_test, xgb_preds):.4f}\")\n",
    "print(f\"Precision: {precision_score(y_test, xgb_preds, average='weighted'):.4f}\")\n",
    "print(f\"Recall: {recall_score(y_test, xgb_preds, average='weighted'):.4f}\")\n",
    "print(f\"F1 Score: {f1_score(y_test, xgb_preds, average='weighted'):.4f}\")\n",
    "print(\"\\nClassification Report:\\n\", classification_report(y_test, xgb_preds, target_names=label_encoder.classes_))"
   ]
  },
  {
   "cell_type": "code",
   "execution_count": null,
   "id": "29f627e7-cc30-4c41-9ae7-ca8c511d0c57",
   "metadata": {},
   "outputs": [],
   "source": []
  }
 ],
 "metadata": {
  "kernelspec": {
   "display_name": "Python 3 (ipykernel)",
   "language": "python",
   "name": "python3"
  },
  "language_info": {
   "codemirror_mode": {
    "name": "ipython",
    "version": 3
   },
   "file_extension": ".py",
   "mimetype": "text/x-python",
   "name": "python",
   "nbconvert_exporter": "python",
   "pygments_lexer": "ipython3",
   "version": "3.13.2"
  }
 },
 "nbformat": 4,
 "nbformat_minor": 5
}
