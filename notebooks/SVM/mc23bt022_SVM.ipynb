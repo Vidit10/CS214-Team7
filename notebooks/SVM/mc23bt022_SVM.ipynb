{
 "cells": [
  {
   "cell_type": "code",
   "execution_count": 10,
   "id": "9136d2c8-ac02-4655-a821-fee08885c768",
   "metadata": {},
   "outputs": [
    {
     "name": "stdout",
     "output_type": "stream",
     "text": [
      "Test Accuracy: 92.8921568627451\n",
      "                        precision    recall  f1-score   support\n",
      "\n",
      "    Anabas testudineus       1.00      1.00      1.00        47\n",
      "     Coilia dussumieri       1.00      1.00      1.00        41\n",
      "Otolithoides biauritus       0.75      0.57      0.65        47\n",
      "     Otolithoides pama       1.00      1.00      1.00        44\n",
      "     Pethia conchonius       1.00      1.00      1.00        48\n",
      "  Polynemus paradiseus       1.00      1.00      1.00        46\n",
      "  Puntius lateristriga       1.00      1.00      1.00        42\n",
      "        Setipinna taty       0.66      0.81      0.73        48\n",
      " Sillaginopsis panijus       1.00      1.00      1.00        45\n",
      "\n",
      "              accuracy                           0.93       408\n",
      "             macro avg       0.93      0.93      0.93       408\n",
      "          weighted avg       0.93      0.93      0.93       408\n",
      "\n",
      "[[47  0  0  0  0  0  0  0  0]\n",
      " [ 0 41  0  0  0  0  0  0  0]\n",
      " [ 0  0 27  0  0  0  0 20  0]\n",
      " [ 0  0  0 44  0  0  0  0  0]\n",
      " [ 0  0  0  0 48  0  0  0  0]\n",
      " [ 0  0  0  0  0 46  0  0  0]\n",
      " [ 0  0  0  0  0  0 42  0  0]\n",
      " [ 0  0  9  0  0  0  0 39  0]\n",
      " [ 0  0  0  0  0  0  0  0 45]]\n"
     ]
    }
   ],
   "source": [
    "from sklearn.svm import SVC\n",
    "from sklearn.metrics import accuracy_score, classification_report, confusion_matrix\n",
    "\n",
    "svm_model = SVC(kernel='rbf', C=1.0, gamma='scale', random_state=42)\n",
    "svm_model.fit(X_train_scaled, y_train)\n",
    "\n",
    "y_pred = svm_model.predict(X_test_scaled)\n",
    "\n",
    "print(\"Test Accuracy:\", accuracy_score(y_test, y_pred) * 100)\n",
    "print(classification_report(y_test, y_pred))\n",
    "print(confusion_matrix(y_test, y_pred))\n"
   ]
  },
  {
   "cell_type": "code",
   "execution_count": null,
   "id": "5ffe427c-5b14-4167-a474-60c917f047a2",
   "metadata": {},
   "outputs": [],
   "source": []
  }
 ],
 "metadata": {
  "kernelspec": {
   "display_name": "Python 3 (ipykernel)",
   "language": "python",
   "name": "python3"
  },
  "language_info": {
   "codemirror_mode": {
    "name": "ipython",
    "version": 3
   },
   "file_extension": ".py",
   "mimetype": "text/x-python",
   "name": "python",
   "nbconvert_exporter": "python",
   "pygments_lexer": "ipython3",
   "version": "3.13.2"
  }
 },
 "nbformat": 4,
 "nbformat_minor": 5
}
