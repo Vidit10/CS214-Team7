{
 "cells": [
  {
   "cell_type": "code",
   "execution_count": 16,
   "id": "63578e59-600a-47cc-a935-866302a065c5",
   "metadata": {},
   "outputs": [
    {
     "data": {
      "text/plain": [
       "species      0\n",
       "length       0\n",
       "weight       0\n",
       "w_l_ratio    0\n",
       "dtype: int64"
      ]
     },
     "execution_count": 16,
     "metadata": {},
     "output_type": "execute_result"
    }
   ],
   "source": [
    "import pandas as pd\n",
    "\n",
    "#Check for missing entries\n",
    "df = pd.read_csv('7.csv')\n",
    "df.isnull().sum()"
   ]
  },
  {
   "cell_type": "code",
   "execution_count": 17,
   "id": "99ff409d-e0f8-42aa-a13f-eda68ca5b70b",
   "metadata": {},
   "outputs": [
    {
     "name": "stdout",
     "output_type": "stream",
     "text": [
      "species\n",
      "Setipinna taty            336\n",
      "Anabas testudineus        333\n",
      "Pethia conchonius         332\n",
      "Otolithoides biauritus    328\n",
      "Polynemus paradiseus      321\n",
      "Sillaginopsis panijus     318\n",
      "Otolithoides pama         305\n",
      "Puntius lateristriga      293\n",
      "Coilia dussumieri         290\n",
      "Name: count, dtype: int64\n",
      "species\n",
      "Setipinna taty            72\n",
      "Anabas testudineus        72\n",
      "Pethia conchonius         71\n",
      "Otolithoides biauritus    70\n",
      "Sillaginopsis panijus     69\n",
      "Polynemus paradiseus      68\n",
      "Otolithoides pama         65\n",
      "Coilia dussumieri         63\n",
      "Puntius lateristriga      62\n",
      "Name: count, dtype: int64\n",
      "species\n",
      "Setipinna taty            72\n",
      "Pethia conchonius         72\n",
      "Anabas testudineus        71\n",
      "Otolithoides biauritus    70\n",
      "Polynemus paradiseus      69\n",
      "Sillaginopsis panijus     68\n",
      "Otolithoides pama         65\n",
      "Puntius lateristriga      63\n",
      "Coilia dussumieri         62\n",
      "Name: count, dtype: int64\n"
     ]
    }
   ],
   "source": [
    "from sklearn.model_selection import StratifiedShuffleSplit\n",
    "\n",
    "X = df.drop('species', axis=1)\n",
    "y = df['species']\n",
    "\n",
    "split = StratifiedShuffleSplit(n_splits=1, test_size=0.3, random_state=42)\n",
    "# First split: Train (70%) and Temp (30%)\n",
    "for train_index, temp_index in split.split(X, y):\n",
    "    X_train, X_temp = X.iloc[train_index], X.iloc[temp_index]\n",
    "    y_train, y_temp = y.iloc[train_index], y.iloc[temp_index]\n",
    "\n",
    "# Second split: Validate (15%) and Test (15%) from temp\n",
    "split = StratifiedShuffleSplit(n_splits=1, test_size=0.5, random_state=42)\n",
    "\n",
    "for val_index, test_index in split.split(X_temp, y_temp):\n",
    "    X_val, X_test = X_temp.iloc[val_index], X_temp.iloc[test_index]\n",
    "    y_val, y_test = y_temp.iloc[val_index], y_temp.iloc[test_index]\n",
    "\n",
    "# Combine back for easy viewing\n",
    "train_data = X_train.copy()\n",
    "train_data['species'] = y_train\n",
    "\n",
    "val_data = X_val.copy()\n",
    "val_data['species'] = y_val\n",
    "\n",
    "test_data = X_test.copy()\n",
    "test_data['species'] = y_test\n",
    "\n",
    "# Check the distribution\n",
    "print(train_data['species'].value_counts())\n",
    "print(val_data['species'].value_counts())\n",
    "print(test_data['species'].value_counts())"
   ]
  },
  {
   "cell_type": "code",
   "execution_count": 18,
   "id": "02109419-4ba6-4492-8ab4-6a00bd168c35",
   "metadata": {},
   "outputs": [],
   "source": [
    "cols = ['species'] + [col for col in train_data.columns if col != 'species']\n",
    "\n",
    "train_data = train_data[cols]\n",
    "val_data = val_data[cols]\n",
    "test_data = test_data[cols]\n",
    "\n",
    "# Save the datasets as CSV files\n",
    "train_data.to_csv('train_data.csv', index=False)\n",
    "val_data.to_csv('validation_data.csv', index=False)\n",
    "test_data.to_csv('test_data.csv', index=False)"
   ]
  },
  {
   "cell_type": "code",
   "execution_count": 21,
   "id": "091aeed1-bad9-4291-8a5f-4781e86f47d5",
   "metadata": {},
   "outputs": [
    {
     "name": "stdout",
     "output_type": "stream",
     "text": [
      "(4080, 4)\n"
     ]
    }
   ],
   "source": [
    "print(df.shape)"
   ]
  },
  {
   "cell_type": "code",
   "execution_count": 23,
   "id": "de54b23d-2497-4c24-9d37-cc6bb8a60ff6",
   "metadata": {},
   "outputs": [
    {
     "name": "stdout",
     "output_type": "stream",
     "text": [
      "Index(['species', 'length', 'weight', 'w_l_ratio'], dtype='object')\n"
     ]
    }
   ],
   "source": [
    "print(df.columns)"
   ]
  },
  {
   "cell_type": "code",
   "execution_count": 30,
   "id": "e3f7039b-23ce-4840-b189-75c10c9c3504",
   "metadata": {},
   "outputs": [
    {
     "name": "stdout",
     "output_type": "stream",
     "text": [
      "0.2458353684278036\n"
     ]
    }
   ],
   "source": [
    "corr = df['weight'].corr(df['w_l_ratio'], method='pearson')\n",
    "print(corr)"
   ]
  },
  {
   "cell_type": "code",
   "execution_count": 33,
   "id": "ef3ee114-12bd-4c96-9d71-c97d53d0f322",
   "metadata": {},
   "outputs": [
    {
     "name": "stdout",
     "output_type": "stream",
     "text": [
      "0.2458353684278036\n"
     ]
    }
   ],
   "source": [
    "corr = df.iloc[:, 2].corr(df.iloc[:, 3], method='pearson')\n",
    "print(corr)"
   ]
  }
 ],
 "metadata": {
  "kernelspec": {
   "display_name": "Python 3 (ipykernel)",
   "language": "python",
   "name": "python3"
  },
  "language_info": {
   "codemirror_mode": {
    "name": "ipython",
    "version": 3
   },
   "file_extension": ".py",
   "mimetype": "text/x-python",
   "name": "python",
   "nbconvert_exporter": "python",
   "pygments_lexer": "ipython3",
   "version": "3.13.2"
  }
 },
 "nbformat": 4,
 "nbformat_minor": 5
}
