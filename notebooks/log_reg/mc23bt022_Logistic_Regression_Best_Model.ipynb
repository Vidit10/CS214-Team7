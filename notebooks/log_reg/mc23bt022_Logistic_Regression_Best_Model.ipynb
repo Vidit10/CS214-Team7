{
 "cells": [
  {
   "cell_type": "code",
   "execution_count": 1,
   "id": "1e918972-53be-4ce1-a9f7-bc30a625feb6",
   "metadata": {},
   "outputs": [
    {
     "name": "stdout",
     "output_type": "stream",
     "text": [
      "Accuracy: 93.38235294117648\n",
      "\n",
      "Classification Report:\n",
      "                        precision    recall  f1-score   support\n",
      "\n",
      "    Anabas testudineus       1.00      1.00      1.00        48\n",
      "     Coilia dussumieri       1.00      1.00      1.00        41\n",
      "Otolithoides biauritus       0.78      0.60      0.67        47\n",
      "     Otolithoides pama       1.00      1.00      1.00        43\n",
      "     Pethia conchonius       1.00      1.00      1.00        48\n",
      "  Polynemus paradiseus       1.00      1.00      1.00        46\n",
      "  Puntius lateristriga       1.00      1.00      1.00        42\n",
      "        Setipinna taty       0.68      0.83      0.75        48\n",
      " Sillaginopsis panijus       1.00      1.00      1.00        45\n",
      "\n",
      "              accuracy                           0.93       408\n",
      "             macro avg       0.94      0.94      0.94       408\n",
      "          weighted avg       0.94      0.93      0.93       408\n",
      "\n",
      "Confusion Matrix:\n",
      "[[48  0  0  0  0  0  0  0  0]\n",
      " [ 0 41  0  0  0  0  0  0  0]\n",
      " [ 0  0 28  0  0  0  0 19  0]\n",
      " [ 0  0  0 43  0  0  0  0  0]\n",
      " [ 0  0  0  0 48  0  0  0  0]\n",
      " [ 0  0  0  0  0 46  0  0  0]\n",
      " [ 0  0  0  0  0  0 42  0  0]\n",
      " [ 0  0  8  0  0  0  0 40  0]\n",
      " [ 0  0  0  0  0  0  0  0 45]]\n"
     ]
    },
    {
     "name": "stderr",
     "output_type": "stream",
     "text": [
      "/home/kali/Desktop/Artificial_Intelligence/venv/lib/python3.13/site-packages/sklearn/linear_model/_logistic.py:1247: FutureWarning: 'multi_class' was deprecated in version 1.5 and will be removed in 1.7. From then on, it will always use 'multinomial'. Leave it to its default value to avoid this warning.\n",
      "  warnings.warn(\n"
     ]
    }
   ],
   "source": [
    "import pandas as pd\n",
    "import numpy as np\n",
    "from sklearn.model_selection import train_test_split\n",
    "from sklearn.preprocessing import StandardScaler\n",
    "from sklearn.linear_model import LogisticRegression\n",
    "from sklearn.metrics import classification_report, confusion_matrix, accuracy_score\n",
    "\n",
    "df = pd.read_csv(\"7.csv\") \n",
    "\n",
    "X = df.drop(\"species\", axis=1)\n",
    "y = df[\"species\"]\n",
    "\n",
    "X_train_val, X_test, y_train_val, y_test = train_test_split(X, y, test_size=0.1, random_state=42, stratify=y)\n",
    "X_train, X_val, y_train, y_val = train_test_split(X_train_val, y_train_val, test_size=0.111, random_state=42, stratify=y_train_val)\n",
    "\n",
    "\n",
    "scaler = StandardScaler()\n",
    "X_train_scaled = scaler.fit_transform(X_train)\n",
    "X_val_scaled = scaler.transform(X_val)\n",
    "X_test_scaled = scaler.transform(X_test)\n",
    "\n",
    "model = LogisticRegression(max_iter=1000, multi_class='multinomial', solver='lbfgs', random_state=42)\n",
    "model.fit(X_train_scaled, y_train)\n",
    "\n",
    "y_pred = model.predict(X_test_scaled)\n",
    "\n",
    "print(\"Accuracy:\", accuracy_score(y_test, y_pred) * 100)\n",
    "print(\"\\nClassification Report:\")\n",
    "print(classification_report(y_test, y_pred))\n",
    "\n",
    "print(\"Confusion Matrix:\")\n",
    "print(confusion_matrix(y_test, y_pred))\n"
   ]
  },
  {
   "cell_type": "code",
   "execution_count": null,
   "id": "77160f9f-e045-4f88-840f-9aa51c5042e9",
   "metadata": {},
   "outputs": [],
   "source": []
  }
 ],
 "metadata": {
  "kernelspec": {
   "display_name": "Python 3 (ipykernel)",
   "language": "python",
   "name": "python3"
  },
  "language_info": {
   "codemirror_mode": {
    "name": "ipython",
    "version": 3
   },
   "file_extension": ".py",
   "mimetype": "text/x-python",
   "name": "python",
   "nbconvert_exporter": "python",
   "pygments_lexer": "ipython3",
   "version": "3.13.2"
  }
 },
 "nbformat": 4,
 "nbformat_minor": 5
}
