{
 "cells": [
  {
   "cell_type": "code",
   "execution_count": 1,
   "id": "c0a3b481-b706-4db0-8f13-08757150713a",
   "metadata": {},
   "outputs": [
    {
     "name": "stdout",
     "output_type": "stream",
     "text": [
      "Fitting 3 folds for each of 36 candidates, totalling 108 fits\n",
      "\n",
      " Best Hyperparameters: {'max_depth': 10, 'max_features': 'sqrt', 'min_samples_split': 5, 'n_estimators': 100}\n",
      "\n",
      " Accuracy: 92.89%\n",
      "\n",
      "Classification Report:\n",
      "                        precision    recall  f1-score   support\n",
      "\n",
      "    Anabas testudineus       1.00      1.00      1.00       160\n",
      "     Coilia dussumieri       1.00      1.00      1.00       125\n",
      "Otolithoides biauritus       0.66      0.79      0.72       141\n",
      "     Otolithoides pama       1.00      1.00      1.00       129\n",
      "     Pethia conchonius       1.00      1.00      1.00       132\n",
      "  Polynemus paradiseus       1.00      1.00      1.00       159\n",
      "  Puntius lateristriga       1.00      1.00      1.00       105\n",
      "        Setipinna taty       0.75      0.61      0.67       146\n",
      " Sillaginopsis panijus       1.00      1.00      1.00       127\n",
      "\n",
      "              accuracy                           0.93      1224\n",
      "             macro avg       0.93      0.93      0.93      1224\n",
      "          weighted avg       0.93      0.93      0.93      1224\n",
      "\n",
      "\n",
      "Confusion Matrix:\n",
      "[[160   0   0   0   0   0   0   0   0]\n",
      " [  0 125   0   0   0   0   0   0   0]\n",
      " [  0   0 111   0   0   0   0  30   0]\n",
      " [  0   0   0 129   0   0   0   0   0]\n",
      " [  0   0   0   0 132   0   0   0   0]\n",
      " [  0   0   0   0   0 159   0   0   0]\n",
      " [  0   0   0   0   0   0 105   0   0]\n",
      " [  0   0  57   0   0   0   0  89   0]\n",
      " [  0   0   0   0   0   0   0   0 127]]\n"
     ]
    }
   ],
   "source": [
    "import pandas as pd\n",
    "from sklearn.model_selection import train_test_split, GridSearchCV\n",
    "from sklearn.ensemble import RandomForestClassifier\n",
    "from sklearn.metrics import accuracy_score, classification_report, confusion_matrix\n",
    "from sklearn.preprocessing import LabelEncoder\n",
    "\n",
    "df = pd.read_csv('7.csv')\n",
    "\n",
    "X = df.drop('species', axis=1)\n",
    "label_encoder = LabelEncoder()\n",
    "y = label_encoder.fit_transform(df['species'])\n",
    "\n",
    "X_train, X_test, y_train, y_test = train_test_split(X, y, test_size=0.3, random_state=42)\n",
    "\n",
    "param_grid = {\n",
    "    'n_estimators': [50, 100, 150],\n",
    "    'max_depth': [None, 10, 20],\n",
    "    'max_features': ['sqrt', 'log2'],\n",
    "    'min_samples_split': [2, 5],\n",
    "}\n",
    "\n",
    "rf = RandomForestClassifier(random_state=42)\n",
    "\n",
    "grid_search = GridSearchCV(\n",
    "    estimator=rf,\n",
    "    param_grid=param_grid,\n",
    "    scoring='f1_weighted',\n",
    "    cv=3,\n",
    "    n_jobs=-1,\n",
    "    verbose=1\n",
    ")\n",
    "\n",
    "grid_search.fit(X_train, y_train)\n",
    "\n",
    "best_rf = grid_search.best_estimator_\n",
    "y_pred = best_rf.predict(X_test)\n",
    "\n",
    "print(\"\\n Best Hyperparameters:\", grid_search.best_params_)\n",
    "print(f\"\\n Accuracy: {accuracy_score(y_test, y_pred) * 100:.2f}%\")\n",
    "print(\"\\nClassification Report:\")\n",
    "print(classification_report(y_test, y_pred, target_names=label_encoder.classes_))\n",
    "print(\"\\nConfusion Matrix:\")\n",
    "print(confusion_matrix(y_test, y_pred))"
   ]
  },
  {
   "cell_type": "code",
   "execution_count": null,
   "id": "31ec5617-594d-4590-b9c0-037e43ca1503",
   "metadata": {},
   "outputs": [],
   "source": []
  }
 ],
 "metadata": {
  "kernelspec": {
   "display_name": "Python 3 (ipykernel)",
   "language": "python",
   "name": "python3"
  },
  "language_info": {
   "codemirror_mode": {
    "name": "ipython",
    "version": 3
   },
   "file_extension": ".py",
   "mimetype": "text/x-python",
   "name": "python",
   "nbconvert_exporter": "python",
   "pygments_lexer": "ipython3",
   "version": "3.13.2"
  }
 },
 "nbformat": 4,
 "nbformat_minor": 5
}
