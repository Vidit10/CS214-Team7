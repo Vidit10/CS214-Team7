{
 "cells": [
  {
   "cell_type": "code",
   "execution_count": 1,
   "id": "0775334f-65cb-4e6b-a495-cfac989faa83",
   "metadata": {},
   "outputs": [
    {
     "name": "stdout",
     "output_type": "stream",
     "text": [
      "Accuracy: 92.8921568627451\n",
      "              precision    recall  f1-score   support\n",
      "\n",
      "           0       1.00      1.00      1.00       120\n",
      "           1       1.00      1.00      1.00        77\n",
      "           2       0.71      0.60      0.65        91\n",
      "           3       1.00      1.00      1.00        86\n",
      "           4       1.00      1.00      1.00        89\n",
      "           5       1.00      1.00      1.00       102\n",
      "           6       1.00      1.00      1.00        65\n",
      "           7       0.68      0.78      0.73       100\n",
      "           8       1.00      1.00      1.00        86\n",
      "\n",
      "    accuracy                           0.93       816\n",
      "   macro avg       0.93      0.93      0.93       816\n",
      "weighted avg       0.93      0.93      0.93       816\n",
      "\n",
      "[[120   0   0   0   0   0   0   0   0]\n",
      " [  0  77   0   0   0   0   0   0   0]\n",
      " [  0   0  55   0   0   0   0  36   0]\n",
      " [  0   0   0  86   0   0   0   0   0]\n",
      " [  0   0   0   0  89   0   0   0   0]\n",
      " [  0   0   0   0   0 102   0   0   0]\n",
      " [  0   0   0   0   0   0  65   0   0]\n",
      " [  0   0  22   0   0   0   0  78   0]\n",
      " [  0   0   0   0   0   0   0   0  86]]\n"
     ]
    }
   ],
   "source": [
    "import pandas as pd\n",
    "from sklearn.model_selection import train_test_split\n",
    "from sklearn.preprocessing import StandardScaler, LabelEncoder\n",
    "from sklearn.naive_bayes import GaussianNB\n",
    "from sklearn.metrics import accuracy_score, classification_report, confusion_matrix\n",
    "\n",
    "df = pd.read_csv(\"7.csv\")\n",
    "\n",
    "for col in df.select_dtypes(include=['object']).columns:\n",
    "    df[col] = LabelEncoder().fit_transform(df[col])\n",
    "\n",
    "X = df.drop(\"species\", axis=1)\n",
    "y = df[\"species\"]\n",
    "\n",
    "X_train, X_test, y_train, y_test = train_test_split(X, y, test_size=0.2, random_state=42)\n",
    "\n",
    "scaler = StandardScaler()\n",
    "X_train_scaled = scaler.fit_transform(X_train)\n",
    "X_test_scaled = scaler.transform(X_test)\n",
    "\n",
    "nb = GaussianNB()\n",
    "nb.fit(X_train_scaled, y_train)\n",
    "y_pred = nb.predict(X_test_scaled)\n",
    "\n",
    "print(\"Accuracy:\", accuracy_score(y_test, y_pred) * 100)\n",
    "print(classification_report(y_test, y_pred))\n",
    "print(confusion_matrix(y_test, y_pred))"
   ]
  },
  {
   "cell_type": "code",
   "execution_count": null,
   "id": "8996eeb4-8a92-4ec7-a517-096df854db21",
   "metadata": {},
   "outputs": [],
   "source": []
  }
 ],
 "metadata": {
  "kernelspec": {
   "display_name": "Python 3 (ipykernel)",
   "language": "python",
   "name": "python3"
  },
  "language_info": {
   "codemirror_mode": {
    "name": "ipython",
    "version": 3
   },
   "file_extension": ".py",
   "mimetype": "text/x-python",
   "name": "python",
   "nbconvert_exporter": "python",
   "pygments_lexer": "ipython3",
   "version": "3.13.2"
  }
 },
 "nbformat": 4,
 "nbformat_minor": 5
}
